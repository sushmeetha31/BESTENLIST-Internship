{
 "cells": [
  {
   "cell_type": "markdown",
   "metadata": {},
   "source": [
    "COFFEE MACHINE PROGRAM"
   ]
  },
  {
   "cell_type": "code",
   "execution_count": 1,
   "metadata": {},
   "outputs": [
    {
     "name": "stdout",
     "output_type": "stream",
     "text": [
      "importing Jupyter notebook from menu.ipynb\n",
      "importing Jupyter notebook from coffee_maker.ipynb\n",
      "importing Jupyter notebook from money_machine.ipynb\n",
      "What would you like? (latte/espresso/cappuccino/): cappuccino\n",
      "Please insert coins.\n",
      "How many quarters?: 3\n",
      "How many dimes?: 4\n",
      "How many nickles?: 5\n",
      "How many pennies?: 6\n",
      "Sorry that's not enough money. Money refunded.\n",
      "What would you like? (latte/espresso/cappuccino/): espresso\n",
      "Please insert coins.\n",
      "How many quarters?: 9\n",
      "How many dimes?: 7\n",
      "How many nickles?: 6\n",
      "How many pennies?: 8\n",
      "Here is $3.29 in change.\n",
      "Here is your espresso ☕️. Enjoy!\n",
      "What would you like? (latte/espresso/cappuccino/): latte\n",
      "Please insert coins.\n",
      "How many quarters?: 7\n",
      "How many dimes?: 8\n",
      "How many nickles?: 9\n",
      "How many pennies?: 9\n",
      "Here is $5.38 in change.\n",
      "Here is your latte ☕️. Enjoy!\n",
      "What would you like? (latte/espresso/cappuccino/): report\n",
      "Water: 50ml\n",
      "Milk: 50ml\n",
      "Coffee: 58g\n",
      "Money: $4.0\n",
      "What would you like? (latte/espresso/cappuccino/): off\n"
     ]
    }
   ],
   "source": [
    "import import_ipynb\n",
    "from menu import Menu, MenuItem\n",
    "from coffee_maker import CoffeeMaker\n",
    "from money_machine import MoneyMachine\n",
    "\n",
    "will_continue = True\n",
    "menu = Menu()\n",
    "name = menu.get_items()\n",
    "money_machine = MoneyMachine()\n",
    "coffee_maker = CoffeeMaker()\n",
    "while will_continue:\n",
    "    choice = input(f\"What would you like? ({name}): \").lower()\n",
    "    if choice == \"off\":\n",
    "        will_continue = False\n",
    "    elif choice == \"report\":\n",
    "        coffee_maker.report()\n",
    "        money_machine.report()\n",
    "    else:\n",
    "        drink = menu.find_drink(choice)\n",
    "        if coffee_maker.is_resource_sufficient(drink) and money_machine.make_payment(drink.cost):\n",
    "            coffee_maker.make_coffee(drink)"
   ]
  },
  {
   "cell_type": "code",
   "execution_count": null,
   "metadata": {},
   "outputs": [],
   "source": []
  },
  {
   "cell_type": "code",
   "execution_count": null,
   "metadata": {},
   "outputs": [],
   "source": []
  }
 ],
 "metadata": {
  "kernelspec": {
   "display_name": "Python 3",
   "language": "python",
   "name": "python3"
  },
  "language_info": {
   "codemirror_mode": {
    "name": "ipython",
    "version": 3
   },
   "file_extension": ".py",
   "mimetype": "text/x-python",
   "name": "python",
   "nbconvert_exporter": "python",
   "pygments_lexer": "ipython3",
   "version": "3.8.5"
  }
 },
 "nbformat": 4,
 "nbformat_minor": 4
}
