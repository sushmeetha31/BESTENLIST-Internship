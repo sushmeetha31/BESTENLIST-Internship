{
 "cells": [
  {
   "cell_type": "code",
   "execution_count": null,
   "metadata": {},
   "outputs": [],
   "source": [
    "class MenuItem:\n",
    "    \"\"\"Models each Menu Item.\"\"\"\n",
    "    def __init__(self, name, water, milk, coffee, cost):\n",
    "        self.name = name\n",
    "        self.cost = cost\n",
    "        self.ingredients = {\n",
    "            \"water\": water,\n",
    "            \"milk\": milk,\n",
    "            \"coffee\": coffee\n",
    "        }\n",
    "\n",
    "\n",
    "class Menu:\n",
    "    \"\"\"Models the Menu with drinks.\"\"\"\n",
    "    def __init__(self):\n",
    "        self.menu = [\n",
    "            MenuItem(name=\"latte\", water=200, milk=150, coffee=24, cost=2.5),\n",
    "            MenuItem(name=\"espresso\", water=50, milk=0, coffee=18, cost=1.5),\n",
    "            MenuItem(name=\"cappuccino\", water=250, milk=50, coffee=24, cost=3),\n",
    "        ]\n",
    "\n",
    "    def get_items(self):\n",
    "        \"\"\"Returns all the names of the available menu items\"\"\"\n",
    "        options = \"\"\n",
    "        for item in self.menu:\n",
    "            options += f\"{item.name}/\"\n",
    "        return options\n",
    "\n",
    "    def find_drink(self, order_name):\n",
    "        \"\"\"Searches the menu for a particular drink by name. Returns that item if it exists, otherwise returns None\"\"\"\n",
    "        for item in self.menu:\n",
    "            if item.name == order_name:\n",
    "                return item\n",
    "        print(\"Sorry that item is not available.\")"
   ]
  }
 ],
 "metadata": {
  "kernelspec": {
   "display_name": "Python 3",
   "language": "python",
   "name": "python3"
  },
  "language_info": {
   "codemirror_mode": {
    "name": "ipython",
    "version": 3
   },
   "file_extension": ".py",
   "mimetype": "text/x-python",
   "name": "python",
   "nbconvert_exporter": "python",
   "pygments_lexer": "ipython3",
   "version": "3.8.5"
  }
 },
 "nbformat": 4,
 "nbformat_minor": 4
}
