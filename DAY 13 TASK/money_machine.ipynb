{
 "cells": [
  {
   "cell_type": "code",
   "execution_count": null,
   "metadata": {},
   "outputs": [],
   "source": [
    "class MoneyMachine:\n",
    "\n",
    "    CURRENCY = \"$\"\n",
    "\n",
    "    COIN_VALUES = {\n",
    "        \"quarters\": 0.25,\n",
    "        \"dimes\": 0.10,\n",
    "        \"nickles\": 0.05,\n",
    "        \"pennies\": 0.01\n",
    "    }\n",
    "\n",
    "    def __init__(self):\n",
    "        self.profit = 0\n",
    "        self.money_received = 0\n",
    "\n",
    "    def report(self):\n",
    "        \"\"\"Prints the current profit\"\"\"\n",
    "        print(f\"Money: {self.CURRENCY}{self.profit}\")\n",
    "\n",
    "    def process_coins(self):\n",
    "        \"\"\"Returns the total calculated from coins inserted.\"\"\"\n",
    "        print(\"Please insert coins.\")\n",
    "        for coin in self.COIN_VALUES:\n",
    "            self.money_received += int(input(f\"How many {coin}?: \")) * self.COIN_VALUES[coin]\n",
    "        return self.money_received\n",
    "\n",
    "    def make_payment(self, cost):\n",
    "        \"\"\"Returns True when payment is accepted, or False if insufficient.\"\"\"\n",
    "        self.process_coins()\n",
    "        if self.money_received >= cost:\n",
    "            change = round(self.money_received - cost, 2)\n",
    "            print(f\"Here is {self.CURRENCY}{change} in change.\")\n",
    "            self.profit += cost\n",
    "            return True\n",
    "        else:\n",
    "            print(\"Sorry that's not enough money. Money refunded.\")\n",
    "            return False\n",
    "        self.money_received = 0"
   ]
  }
 ],
 "metadata": {
  "kernelspec": {
   "display_name": "Python 3",
   "language": "python",
   "name": "python3"
  },
  "language_info": {
   "codemirror_mode": {
    "name": "ipython",
    "version": 3
   },
   "file_extension": ".py",
   "mimetype": "text/x-python",
   "name": "python",
   "nbconvert_exporter": "python",
   "pygments_lexer": "ipython3",
   "version": "3.8.5"
  }
 },
 "nbformat": 4,
 "nbformat_minor": 4
}
