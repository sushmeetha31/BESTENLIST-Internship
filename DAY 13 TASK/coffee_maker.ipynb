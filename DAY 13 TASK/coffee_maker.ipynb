{
 "cells": [
  {
   "cell_type": "code",
   "execution_count": null,
   "metadata": {},
   "outputs": [],
   "source": [
    "class CoffeeMaker:\n",
    "    \"\"\"Models the machine that makes the coffee\"\"\"\n",
    "    def __init__(self):\n",
    "        self.resources = {\n",
    "            \"water\": 300,\n",
    "            \"milk\": 200,\n",
    "            \"coffee\": 100,\n",
    "        }\n",
    "\n",
    "    def report(self):\n",
    "        \"\"\"Prints a report of all resources.\"\"\"\n",
    "        print(f\"Water: {self.resources['water']}ml\")\n",
    "        print(f\"Milk: {self.resources['milk']}ml\")\n",
    "        print(f\"Coffee: {self.resources['coffee']}g\")\n",
    "\n",
    "    def is_resource_sufficient(self, drink):\n",
    "        \"\"\"Returns True when order can be made, False if ingredients are insufficient.\"\"\"\n",
    "        can_make = True\n",
    "        for item in drink.ingredients:\n",
    "            if drink.ingredients[item] > self.resources[item]:\n",
    "                print(f\"Sorry there is not enough {item}.\")\n",
    "                can_make = False\n",
    "        return can_make\n",
    "\n",
    "    def make_coffee(self, order):\n",
    "        \"\"\"Deducts the required ingredients from the resources.\"\"\"\n",
    "        for item in order.ingredients:\n",
    "            self.resources[item] -= order.ingredients[item]\n",
    "        print(f\"Here is your {order.name} ☕️. Enjoy!\")"
   ]
  }
 ],
 "metadata": {
  "kernelspec": {
   "display_name": "Python 3",
   "language": "python",
   "name": "python3"
  },
  "language_info": {
   "codemirror_mode": {
    "name": "ipython",
    "version": 3
   },
   "file_extension": ".py",
   "mimetype": "text/x-python",
   "name": "python",
   "nbconvert_exporter": "python",
   "pygments_lexer": "ipython3",
   "version": "3.8.5"
  }
 },
 "nbformat": 4,
 "nbformat_minor": 4
}
